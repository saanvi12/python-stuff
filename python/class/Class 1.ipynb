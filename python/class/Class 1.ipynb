{
 "cells": [
  {
   "cell_type": "markdown",
   "metadata": {},
   "source": [
    "## Compiler\n",
    "In computing, a compiler is a computer program that translates computer code written in one programming language into another language. The name \"compiler\" is primarily used for programs that translate source code from a high-level programming language to a lower level language to create an executable program\n",
    "\n",
    "## Interpreter\n",
    "In computer science, an interpreter is a computer program that directly executes instructions written in a programming or scripting language, without requiring them previously to have been compiled into a machine language program."
   ]
  },
  {
   "cell_type": "markdown",
   "metadata": {},
   "source": [
    "## High Level Language\n",
    "\n",
    "Examples of high-level programming languages in active use today include Python, Visual Basic, Delphi, Perl, PHP, ECMAScript, Ruby, C#, Java and many others"
   ]
  },
  {
   "cell_type": "markdown",
   "metadata": {},
   "source": [
    "## Low Level Language\n",
    "\n",
    "Two common types of low-level programming languages are assembly language and machine language. Software programs and scripts are written in high-level languages, like C#, Swift, and PHP. A software developer can create and edit source code in a high-level language using a programming IDE or even a basic text editor"
   ]
  },
  {
   "cell_type": "markdown",
   "metadata": {},
   "source": [
    "01010 (Computer Under stands) (Binary) (Machinie Language)\n",
    "---->\n",
    "Assemply language (Hardware understand)\n",
    "\n",
    "High Level\n",
    "a = 2\n",
    "b = 4\n",
    "c = a + b\n",
    "print(c)\n",
    "\n",
    "Low Level\n",
    "Python --> Will Convernt into a C format \n",
    "\n",
    "Asembly Lang\n",
    "REG A, 2\n",
    "REG B, 4\n",
    "Acc C\n",
    "ADD A, B\n",
    "STR C\n",
    "DISP C\n",
    "\n",
    "MAchine Code OR Binary\n",
    "10100101\n",
    "101001010100101\n",
    "1010010110100101\n",
    "10100101101001011\n",
    "\n",
    "The processer Computes and returns the value\n",
    "\n",
    "0010 -> 1\n",
    "0100 -> \n",
    "\n",
    "0010\n",
    "0100\n",
    "----\n",
    "0110 --> 6"
   ]
  },
  {
   "cell_type": "markdown",
   "metadata": {},
   "source": [
    "C, C++, Java, C#\n",
    "\n",
    "C ->Wrapper->Python"
   ]
  },
  {
   "cell_type": "markdown",
   "metadata": {},
   "source": [
    "C is procedural Language\n",
    "Python, C++, Java are object oriented language"
   ]
  },
  {
   "cell_type": "code",
   "execution_count": null,
   "metadata": {},
   "outputs": [],
   "source": []
  }
 ],
 "metadata": {
  "kernelspec": {
   "display_name": "Python 3",
   "language": "python",
   "name": "python3"
  },
  "language_info": {
   "codemirror_mode": {
    "name": "ipython",
    "version": 3
   },
   "file_extension": ".py",
   "mimetype": "text/x-python",
   "name": "python",
   "nbconvert_exporter": "python",
   "pygments_lexer": "ipython3",
   "version": "3.8.5"
  }
 },
 "nbformat": 4,
 "nbformat_minor": 4
}
