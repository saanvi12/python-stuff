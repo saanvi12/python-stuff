{
 "cells": [
  {
   "cell_type": "markdown",
   "metadata": {},
   "source": [
    "## Menbership Operartor"
   ]
  },
  {
   "cell_type": "code",
   "execution_count": 3,
   "metadata": {},
   "outputs": [
    {
     "name": "stdout",
     "output_type": "stream",
     "text": [
      "Enter an number: 2\n",
      "The valuse is present and it is  - 2\n"
     ]
    }
   ],
   "source": [
    "# in \n",
    "a = [1,2,3,4,5]\n",
    "var = int(input(\"Enter an number: \"))\n",
    "\n",
    "if var in a:\n",
    "    print(f\"The valuse is present and it is  - {var}\")\n",
    "\n",
    "else:\n",
    "    print(\"The value is not present\")"
   ]
  },
  {
   "cell_type": "code",
   "execution_count": 5,
   "metadata": {},
   "outputs": [
    {
     "name": "stdout",
     "output_type": "stream",
     "text": [
      "Enter an number: 10\n",
      "The value is not present\n"
     ]
    }
   ],
   "source": [
    "# not in \n",
    "\n",
    "# in \n",
    "a = [1,2,3,4,5]\n",
    "var = int(input(\"Enter an number: \"))\n",
    "\n",
    "if var not in a:\n",
    "    print(\"The value is not present\")\n",
    "else:\n",
    "    print(f\"The valuse is present and it is  - {var}\")"
   ]
  },
  {
   "cell_type": "markdown",
   "metadata": {},
   "source": [
    "## Memory Unit \n",
    "\n",
    "https://solutionsreview.com/data-storage/data-storage-units-of-measurement-chart-from-smallest-to-largest/\n",
    "    \n",
    "    \n",
    "smallest value is bit <br>\n",
    "1 bit <br>\n",
    "1 nibble = 4 bit\n",
    "1 byte = 2 nibble\n",
    "1 byte = 8 bits\n",
    "1 kb = 1024 bytes\n",
    "1 mb = 1024 kb\n",
    "1 gb = 1024 mb\n",
    "1 tb = 1024 gm\n",
    "\n",
    "A bit on or off\n",
    "\n",
    "on = 1 \n",
    "off = 0\n",
    "\n",
    "bit is binary code"
   ]
  },
  {
   "cell_type": "code",
   "execution_count": 9,
   "metadata": {},
   "outputs": [
    {
     "name": "stdout",
     "output_type": "stream",
     "text": [
      "140720357779520\n"
     ]
    }
   ],
   "source": [
    "var = 10\n",
    "print(id(var))"
   ]
  },
  {
   "cell_type": "markdown",
   "metadata": {},
   "source": [
    "## Identity Operator"
   ]
  },
  {
   "cell_type": "code",
   "execution_count": 11,
   "metadata": {},
   "outputs": [
    {
     "name": "stdout",
     "output_type": "stream",
     "text": [
      "140720357779520\n",
      "140720357779520\n"
     ]
    }
   ],
   "source": [
    "# is\n",
    "\n",
    "var1 = 10\n",
    "var2 = 10\n",
    "\n",
    "print(id(var1))\n",
    "print(id(var2))"
   ]
  },
  {
   "cell_type": "code",
   "execution_count": 12,
   "metadata": {},
   "outputs": [
    {
     "data": {
      "text/plain": [
       "True"
      ]
     },
     "execution_count": 12,
     "metadata": {},
     "output_type": "execute_result"
    }
   ],
   "source": [
    "var1 is var2"
   ]
  },
  {
   "cell_type": "code",
   "execution_count": 13,
   "metadata": {},
   "outputs": [
    {
     "name": "stdout",
     "output_type": "stream",
     "text": [
      "140720357779520\n",
      "140720357779552\n"
     ]
    }
   ],
   "source": [
    "var1 = 10\n",
    "var2 = 11\n",
    "\n",
    "print(id(var1))\n",
    "print(id(var2))"
   ]
  },
  {
   "cell_type": "code",
   "execution_count": 14,
   "metadata": {},
   "outputs": [
    {
     "data": {
      "text/plain": [
       "False"
      ]
     },
     "execution_count": 14,
     "metadata": {},
     "output_type": "execute_result"
    }
   ],
   "source": [
    "var1 is var2"
   ]
  },
  {
   "cell_type": "markdown",
   "metadata": {},
   "source": [
    "## .format"
   ]
  },
  {
   "cell_type": "code",
   "execution_count": 33,
   "metadata": {},
   "outputs": [
    {
     "name": "stdout",
     "output_type": "stream",
     "text": [
      "Enter you name: Subhadeep\n",
      "Enter Age: 21\n",
      "Hurray you are an adult or too young Subhadeep\n"
     ]
    }
   ],
   "source": [
    "name = input(\"Enter you name: \")\n",
    "age = int(input(\"Enter Age: \"))\n",
    "\n",
    "if age >= 13 and age <= 19:\n",
    "    print(\"You are a teen {0}\".format(name))\n",
    "else:\n",
    "    print(f\"Hurray you are an adult or too young {name}\")"
   ]
  },
  {
   "cell_type": "code",
   "execution_count": 23,
   "metadata": {},
   "outputs": [
    {
     "name": "stdout",
     "output_type": "stream",
     "text": [
      "This value is =  10 10\n"
     ]
    }
   ],
   "source": [
    "a = 10\n",
    "print(\"This value is = \", a, a)"
   ]
  },
  {
   "cell_type": "code",
   "execution_count": 27,
   "metadata": {},
   "outputs": [
    {
     "name": "stdout",
     "output_type": "stream",
     "text": [
      "10 The value is 20\n",
      "10 The value is 20\n",
      "20 The value is 10\n"
     ]
    }
   ],
   "source": [
    "a = 10\n",
    "b = 20\n",
    "print(\"{} The value is {}\".format(a, b))\n",
    "print(\"{0} The value is {1}\".format(a, b))\n",
    "print(\"{1} The value is {0}\".format(a, b))"
   ]
  },
  {
   "cell_type": "code",
   "execution_count": 31,
   "metadata": {},
   "outputs": [
    {
     "name": "stdout",
     "output_type": "stream",
     "text": [
      "20 The value is 10\n"
     ]
    }
   ],
   "source": [
    "# f = format string literal\n",
    "print(f\"{b} The value is {a}\")"
   ]
  },
  {
   "cell_type": "code",
   "execution_count": 32,
   "metadata": {},
   "outputs": [
    {
     "name": "stdout",
     "output_type": "stream",
     "text": [
      "30 The value is -10\n"
     ]
    }
   ],
   "source": [
    "print(f\"{b+a} The value is {a-b}\")"
   ]
  },
  {
   "cell_type": "markdown",
   "metadata": {},
   "source": [
    "## Operator Precedence"
   ]
  },
  {
   "cell_type": "code",
   "execution_count": 40,
   "metadata": {},
   "outputs": [
    {
     "data": {
      "text/plain": [
       "15"
      ]
     },
     "execution_count": 40,
     "metadata": {},
     "output_type": "execute_result"
    }
   ],
   "source": [
    "10 + 10 // 2"
   ]
  },
  {
   "cell_type": "code",
   "execution_count": 37,
   "metadata": {},
   "outputs": [
    {
     "data": {
      "text/plain": [
       "5.0"
      ]
     },
     "execution_count": 37,
     "metadata": {},
     "output_type": "execute_result"
    }
   ],
   "source": [
    "10 / 2"
   ]
  },
  {
   "cell_type": "code",
   "execution_count": 38,
   "metadata": {},
   "outputs": [
    {
     "data": {
      "text/plain": [
       "5"
      ]
     },
     "execution_count": 38,
     "metadata": {},
     "output_type": "execute_result"
    }
   ],
   "source": [
    "10 // 2"
   ]
  },
  {
   "cell_type": "markdown",
   "metadata": {},
   "source": [
    "<pre>\n",
    "**  Exponent\n",
    "~ + - (Complement unary plus and minus) \n",
    "* / % // \n",
    "+ - \n",
    ">> << (Right shift bitwise operator and Left shift bitwise operator)\n",
    "& (ampersnd Bitwise AND)\n",
    "^ | (Bitwise exclusive OR and bitwise regular OR)\n",
    "<= < > >=\n",
    "== != \n",
    "</pre>"
   ]
  },
  {
   "cell_type": "markdown",
   "metadata": {},
   "source": [
    "## Type Casting"
   ]
  },
  {
   "cell_type": "code",
   "execution_count": 41,
   "metadata": {},
   "outputs": [
    {
     "data": {
      "text/plain": [
       "int"
      ]
     },
     "execution_count": 41,
     "metadata": {},
     "output_type": "execute_result"
    }
   ],
   "source": [
    "type(10)"
   ]
  },
  {
   "cell_type": "code",
   "execution_count": 42,
   "metadata": {},
   "outputs": [
    {
     "data": {
      "text/plain": [
       "float"
      ]
     },
     "execution_count": 42,
     "metadata": {},
     "output_type": "execute_result"
    }
   ],
   "source": [
    "type(float(10))"
   ]
  },
  {
   "cell_type": "code",
   "execution_count": 44,
   "metadata": {},
   "outputs": [
    {
     "name": "stdout",
     "output_type": "stream",
     "text": [
      "<class 'int'> 20\n",
      "<class 'float'> 20.0\n",
      "<class 'float'> 20.0\n",
      "<class 'int'> 20\n"
     ]
    }
   ],
   "source": [
    "var = 20\n",
    "var2 = 20.0\n",
    "print(type(var), var)\n",
    "print(type(var2), var2)\n",
    "\n",
    "var = float(var)\n",
    "var2 = int(var2)\n",
    "print(type(var), var)\n",
    "print(type(var2), var2)"
   ]
  },
  {
   "cell_type": "markdown",
   "metadata": {},
   "source": [
    "## Decision Making"
   ]
  },
  {
   "cell_type": "code",
   "execution_count": 45,
   "metadata": {},
   "outputs": [],
   "source": [
    "# Ramdon day small Project"
   ]
  },
  {
   "cell_type": "raw",
   "metadata": {},
   "source": [
    "if (check):\n",
    "    print(statement)\n",
    "else:\n",
    "    print(statement)"
   ]
  },
  {
   "cell_type": "code",
   "execution_count": 58,
   "metadata": {},
   "outputs": [],
   "source": [
    "# pass does nothing it is total useless\n",
    "# Linear Structure\n",
    "a = 10\n",
    "\n",
    "if (a < 10):\n",
    "    pass\n",
    "elif (a > 10):\n",
    "    pass\n",
    "elif (a == 0):\n",
    "    pass\n",
    "else:\n",
    "    pass"
   ]
  },
  {
   "cell_type": "code",
   "execution_count": 57,
   "metadata": {},
   "outputs": [
    {
     "name": "stdout",
     "output_type": "stream",
     "text": [
      "No Bruh!! 3\n"
     ]
    }
   ],
   "source": [
    "# Nested Structure\n",
    "\n",
    "20\n",
    "\n",
    "if (type(a) is int):\n",
    "    if (a > 5):\n",
    "        if (a < 15):\n",
    "            if (a == 10):\n",
    "                print(\"Yo bruh!!\")\n",
    "            else:\n",
    "                print(\"No Bruh!! 1\")\n",
    "        else:\n",
    "            print(\"No Bruh!! 2\")\n",
    "    else:\n",
    "        print(\"No Bruh!! 3\")\n",
    "else:\n",
    "    print(\"No Bruh!! 4\")"
   ]
  },
  {
   "cell_type": "code",
   "execution_count": 52,
   "metadata": {},
   "outputs": [
    {
     "data": {
      "text/plain": [
       "True"
      ]
     },
     "execution_count": 52,
     "metadata": {},
     "output_type": "execute_result"
    }
   ],
   "source": [
    "type(a) is int"
   ]
  },
  {
   "cell_type": "code",
   "execution_count": 64,
   "metadata": {},
   "outputs": [
    {
     "name": "stdout",
     "output_type": "stream",
     "text": [
      "Enter you First name: Saanvi\n",
      "Enter you Last name: Mogla\n",
      "Enter your age: 14\n",
      " Saanvi \n",
      " Mogla \n",
      "Get married\n"
     ]
    }
   ],
   "source": [
    "fname = input(\"Enter you First name: \")\n",
    "lname = input(\"Enter you Last name: \")\n",
    "age = int(input(\"Enter your age: \"))\n",
    "\n",
    "if (len(fname) >= 5):\n",
    "    print(f\" {fname} \")\n",
    "    if len(lname) > 4 and len(lname) < 10:\n",
    "        print(f\" {lname} \")\n",
    "        if (age > 20 and age < 25):\n",
    "            print(\"Study!!\")\n",
    "        else:\n",
    "            print(\" afafwefef \")\n",
    "    else:\n",
    "        print(\" Still No!!\")\n",
    "else:\n",
    "    print(\" Nopeee!! \")"
   ]
  },
  {
   "cell_type": "markdown",
   "metadata": {},
   "source": [
    "## Algorithms "
   ]
  },
  {
   "cell_type": "markdown",
   "metadata": {},
   "source": [
    "Step 1: Start\n",
    "\n",
    "Step 2: [ Take Input ] Read: Number\n",
    "\n",
    "Step 3: Check: If Number%2 == 0 Then\n",
    "\n",
    "Print : N is an Even Number.\n",
    "\n",
    "Else\n",
    "\n",
    "Print : N is an Odd Number.\n",
    "\n",
    "Step 4: Exit"
   ]
  },
  {
   "cell_type": "code",
   "execution_count": 66,
   "metadata": {},
   "outputs": [
    {
     "name": "stdout",
     "output_type": "stream",
     "text": [
      "Enter a number: 21\n",
      "21 is ODD\n"
     ]
    }
   ],
   "source": [
    "Number = int(input(\"Enter a number: \"))\n",
    "if Number%2 == 0:\n",
    "    print(f\"{Number} is EVEN\")\n",
    "else:\n",
    "    print(f\"{Number} is ODD\")"
   ]
  },
  {
   "cell_type": "code",
   "execution_count": null,
   "metadata": {},
   "outputs": [],
   "source": []
  }
 ],
 "metadata": {
  "kernelspec": {
   "display_name": "Python 3",
   "language": "python",
   "name": "python3"
  },
  "language_info": {
   "codemirror_mode": {
    "name": "ipython",
    "version": 3
   },
   "file_extension": ".py",
   "mimetype": "text/x-python",
   "name": "python",
   "nbconvert_exporter": "python",
   "pygments_lexer": "ipython3",
   "version": "3.8.5"
  }
 },
 "nbformat": 4,
 "nbformat_minor": 4
}
