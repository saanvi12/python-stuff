{
 "cells": [
  {
   "cell_type": "code",
   "execution_count": 1,
   "metadata": {},
   "outputs": [
    {
     "name": "stdout",
     "output_type": "stream",
     "text": [
      "Python Class\n"
     ]
    }
   ],
   "source": [
    "#adding two strings\n",
    "#or concatanation\n",
    "a = 'Python '\n",
    "b = 'Class'\n",
    "print(a + b)"
   ]
  },
  {
   "cell_type": "markdown",
   "metadata": {},
   "source": [
    "## Operators Precedence"
   ]
  },
  {
   "cell_type": "code",
   "execution_count": 2,
   "metadata": {},
   "outputs": [
    {
     "ename": "SyntaxError",
     "evalue": "invalid syntax (<ipython-input-2-5f5499770352>, line 1)",
     "output_type": "error",
     "traceback": [
      "\u001b[1;36m  File \u001b[1;32m\"<ipython-input-2-5f5499770352>\"\u001b[1;36m, line \u001b[1;32m1\u001b[0m\n\u001b[1;33m    **  Exponent\u001b[0m\n\u001b[1;37m    ^\u001b[0m\n\u001b[1;31mSyntaxError\u001b[0m\u001b[1;31m:\u001b[0m invalid syntax\n"
     ]
    }
   ],
   "source": [
    "**  Exponent\n",
    "~ + - (Complement unary plus and minus) \n",
    "* / % // \n",
    "+ - \n",
    ">> << (Right shift bitwise operator and Left shift bitwise operator)\n",
    "& (ampersnd Bitwise AND)\n",
    "^ | (Bitwise exclusive OR and bitwise regular OR)\n",
    "<= < > >=\n",
    "<> == != "
   ]
  },
  {
   "cell_type": "code",
   "execution_count": null,
   "metadata": {},
   "outputs": [],
   "source": [
    "10 + 20 * 10"
   ]
  },
  {
   "cell_type": "code",
   "execution_count": null,
   "metadata": {},
   "outputs": [],
   "source": [
    "10 / 2"
   ]
  },
  {
   "cell_type": "code",
   "execution_count": null,
   "metadata": {},
   "outputs": [],
   "source": [
    "10.5 / 2"
   ]
  },
  {
   "cell_type": "code",
   "execution_count": null,
   "metadata": {},
   "outputs": [],
   "source": [
    "10.5 // 2"
   ]
  },
  {
   "cell_type": "markdown",
   "metadata": {},
   "source": [
    "## Type Casting"
   ]
  },
  {
   "cell_type": "code",
   "execution_count": null,
   "metadata": {},
   "outputs": [],
   "source": [
    "#It is changing the datatype of a variable"
   ]
  },
  {
   "cell_type": "code",
   "execution_count": null,
   "metadata": {},
   "outputs": [],
   "source": [
    "a = 11\n",
    "type(a)"
   ]
  },
  {
   "cell_type": "code",
   "execution_count": null,
   "metadata": {},
   "outputs": [],
   "source": [
    "b = 10.0\n",
    "type(b)"
   ]
  },
  {
   "cell_type": "code",
   "execution_count": null,
   "metadata": {},
   "outputs": [],
   "source": [
    "c = float(a)\n",
    "print(c)"
   ]
  },
  {
   "cell_type": "code",
   "execution_count": null,
   "metadata": {},
   "outputs": [],
   "source": [
    "type(a)"
   ]
  },
  {
   "cell_type": "code",
   "execution_count": null,
   "metadata": {},
   "outputs": [],
   "source": [
    "a = float(a)\n",
    "print(a)"
   ]
  },
  {
   "cell_type": "code",
   "execution_count": null,
   "metadata": {},
   "outputs": [],
   "source": [
    "int(b)"
   ]
  },
  {
   "cell_type": "code",
   "execution_count": null,
   "metadata": {},
   "outputs": [],
   "source": [
    "#Different type of type casting\n",
    "# X is a variable of a value"
   ]
  },
  {
   "cell_type": "code",
   "execution_count": null,
   "metadata": {},
   "outputs": [],
   "source": [
    "int(x)\n",
    "float(x)\n",
    "str(x)\n",
    "\n",
    "complex(real, img)\n",
    "repr(x)\n",
    "eval(string)\n",
    "tuple(s)\n",
    "list(s)\n",
    "set(s)\n",
    "dict(d)\n",
    "frozenset(s)\n",
    "chr(x)\n",
    "ord(x)\n",
    "hex(x)\n",
    "oct(x)"
   ]
  },
  {
   "cell_type": "markdown",
   "metadata": {},
   "source": [
    "## Decison Making"
   ]
  },
  {
   "cell_type": "code",
   "execution_count": null,
   "metadata": {},
   "outputs": [],
   "source": [
    "a = int(input('Enter Something:\\n'))\n",
    "b = float(input(\"Enter a value:\\n\"))\n",
    "\n",
    "if(a == b):\n",
    "    print(\"Okay\")\n",
    "else:\n",
    "    print(\"Not okay\")"
   ]
  },
  {
   "cell_type": "code",
   "execution_count": null,
   "metadata": {},
   "outputs": [],
   "source": [
    "#elif a.k. else if"
   ]
  },
  {
   "cell_type": "code",
   "execution_count": null,
   "metadata": {},
   "outputs": [],
   "source": [
    "if(this):\n",
    "    ...\n",
    "elif(this):\n",
    "    ...\n",
    "else:\n",
    "    ..."
   ]
  },
  {
   "cell_type": "code",
   "execution_count": null,
   "metadata": {},
   "outputs": [],
   "source": [
    "#nested If and else"
   ]
  },
  {
   "cell_type": "code",
   "execution_count": null,
   "metadata": {},
   "outputs": [],
   "source": [
    "if(this):\n",
    "    if(this):\n",
    "        ...\n",
    "    else:\n",
    "        ...\n",
    "elif(this):\n",
    "    if(this):\n",
    "        ...\n",
    "    else:\n",
    "        ...\n",
    "else:\n",
    "    if(this):\n",
    "        ...\n",
    "    else:\n",
    "        ..."
   ]
  },
  {
   "cell_type": "code",
   "execution_count": null,
   "metadata": {},
   "outputs": [],
   "source": [
    "a = 200\n",
    "b = 3000\n",
    "c = 40000"
   ]
  },
  {
   "cell_type": "code",
   "execution_count": null,
   "metadata": {},
   "outputs": [],
   "source": [
    "if(a > b and a > c):\n",
    "    print(\"A\")\n",
    "elif(b > a and b > c):\n",
    "    print(\"B\")\n",
    "else:\n",
    "    print(\"C\")"
   ]
  },
  {
   "cell_type": "code",
   "execution_count": null,
   "metadata": {},
   "outputs": [],
   "source": [
    "\"\"\"Even or odd program \n",
    "Take a integer type value\n",
    "Check if the modulas of that with  is 2\n",
    "if yes print even otherwise odd\"\"\""
   ]
  },
  {
   "cell_type": "code",
   "execution_count": null,
   "metadata": {},
   "outputs": [],
   "source": [
    "a = 20\n",
    "print(\"Value of A \",a)"
   ]
  },
  {
   "cell_type": "code",
   "execution_count": null,
   "metadata": {},
   "outputs": [],
   "source": [
    "#not in use now\n",
    "print(\"Value of A: {0}\".format(a))"
   ]
  },
  {
   "cell_type": "code",
   "execution_count": null,
   "metadata": {},
   "outputs": [],
   "source": [
    "#format string literal\n",
    "#this is hot now\n",
    "print(f\"Value of A: {a}\")"
   ]
  },
  {
   "cell_type": "code",
   "execution_count": null,
   "metadata": {},
   "outputs": [],
   "source": [
    "val = int(input(\"Enter Something:\\n\"))\n",
    "if(val % 2 == 0):\n",
    "    print(f\"\\n{val} is EVEN\")\n",
    "else:\n",
    "    print(f\"\\n{val} is ODD\")"
   ]
  },
  {
   "cell_type": "code",
   "execution_count": null,
   "metadata": {},
   "outputs": [],
   "source": []
  },
  {
   "cell_type": "code",
   "execution_count": 3,
   "metadata": {},
   "outputs": [
    {
     "name": "stdout",
     "output_type": "stream",
     "text": [
      "Enter the length:\n",
      "10\n",
      "Enter the width:\n",
      "5\n",
      "The area of the rectangle is 50\n"
     ]
    }
   ],
   "source": [
    "#Area of rect\n",
    "l = int(input(\"Enter the length:\\n\"))\n",
    "w = int(input(\"Enter the width:\\n\"))\n",
    "area = l * w\n",
    "print(f\"The area of the rectangle is {area}\")"
   ]
  },
  {
   "cell_type": "code",
   "execution_count": 5,
   "metadata": {},
   "outputs": [
    {
     "name": "stdout",
     "output_type": "stream",
     "text": [
      "Enter the length:\n",
      "10\n",
      "Enter the width:\n",
      "5\n",
      "The area of the rectangle is 25\n"
     ]
    }
   ],
   "source": [
    "#Perimeter\n",
    "l = int(input(\"Enter the length:\\n\"))\n",
    "w = int(input(\"Enter the width:\\n\"))\n",
    "#(l+w) * 2\n",
    "perm = 2 * l + w\n",
    "print(f\"The area of the rectangle is {perm}\")"
   ]
  },
  {
   "cell_type": "code",
   "execution_count": 7,
   "metadata": {},
   "outputs": [
    {
     "name": "stdout",
     "output_type": "stream",
     "text": [
      "Enter the side:\n",
      "10\n",
      "The Diagonal os sq is 14.142135623730951\n"
     ]
    }
   ],
   "source": [
    "#Diagonal of sq\n",
    "import math \n",
    "a = int(input(\"Enter the side:\\n\"))\n",
    "res = a * math.sqrt(2)\n",
    "print(f\"The Diagonal os sq is {res}\")"
   ]
  },
  {
   "cell_type": "code",
   "execution_count": 11,
   "metadata": {},
   "outputs": [
    {
     "data": {
      "text/plain": [
       "0.7071067811865476"
      ]
     },
     "execution_count": 11,
     "metadata": {},
     "output_type": "execute_result"
    }
   ],
   "source": [
    "2 ** (-0.5)"
   ]
  },
  {
   "cell_type": "code",
   "execution_count": 15,
   "metadata": {},
   "outputs": [
    {
     "name": "stdout",
     "output_type": "stream",
     "text": [
      "Enter the length:\n",
      "10\n",
      "Enter the width:\n",
      "5\n",
      "Value is 125\n"
     ]
    }
   ],
   "source": [
    "#Diagonal of rect\n",
    "l = int(input(\"Enter the length:\\n\"))\n",
    "w = int(input(\"Enter the width:\\n\"))\n",
    "diag = sqrt(pow(l,2) + pow(w,2))\n",
    "print(\"Value is\",diag)"
   ]
  },
  {
   "cell_type": "code",
   "execution_count": null,
   "metadata": {},
   "outputs": [],
   "source": [
    "pow(a, 2)\n",
    "\n",
    "a ** 2\n"
   ]
  },
  {
   "cell_type": "code",
   "execution_count": 18,
   "metadata": {},
   "outputs": [
    {
     "data": {
      "text/plain": [
       "1.4142135623730951"
      ]
     },
     "execution_count": 18,
     "metadata": {},
     "output_type": "execute_result"
    }
   ],
   "source": [
    "a = 2\n",
    "sqrt(a)\n",
    "\n",
    "#a ** (-1/2)"
   ]
  },
  {
   "cell_type": "code",
   "execution_count": null,
   "metadata": {},
   "outputs": [],
   "source": []
  }
 ],
 "metadata": {
  "kernelspec": {
   "display_name": "Python 3",
   "language": "python",
   "name": "python3"
  },
  "language_info": {
   "codemirror_mode": {
    "name": "ipython",
    "version": 3
   },
   "file_extension": ".py",
   "mimetype": "text/x-python",
   "name": "python",
   "nbconvert_exporter": "python",
   "pygments_lexer": "ipython3",
   "version": "3.8.5"
  }
 },
 "nbformat": 4,
 "nbformat_minor": 4
}
