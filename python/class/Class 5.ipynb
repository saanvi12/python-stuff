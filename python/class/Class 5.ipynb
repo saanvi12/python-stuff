{
 "cells": [
  {
   "cell_type": "markdown",
   "metadata": {},
   "source": [
    "## Loops"
   ]
  },
  {
   "cell_type": "code",
   "execution_count": 3,
   "metadata": {},
   "outputs": [
    {
     "name": "stdout",
     "output_type": "stream",
     "text": [
      "Enter the Selling Price - 10\n",
      "Enter the profit - 20\n",
      "Enter the Selling Price - 10\n",
      "Enter the profit - 20\n",
      "Enter the Selling Price - 10\n",
      "Enter the profit - 20\n",
      "Enter the Selling Price - 10\n",
      "Enter the profit - 20\n",
      "Enter the Selling Price - 10\n",
      "Enter the profit - 20\n",
      "Enter the Selling Price - 10\n",
      "Enter the profit - 20\n",
      "Enter the Selling Price - 10\n",
      "Enter the profit - 20\n",
      "Enter the Selling Price - 10\n",
      "Enter the profit - 20\n",
      "Enter the Selling Price - 10\n",
      "Enter the profit - 20\n",
      "Enter the Selling Price - 10\n",
      "Enter the profit - 20\n",
      "Enter the Selling Price - 10\n",
      "Enter the profit - 20\n",
      "Enter the Selling Price - 10\n",
      "Enter the profit - 20\n",
      "Enter the Selling Price - 10\n",
      "Enter the profit - 20\n",
      "Enter the Selling Price - 10\n",
      "Enter the profit - 20\n",
      "Enter the Selling Price - 10\n",
      "Enter the profit - 20\n",
      "150 300\n",
      "The Total Cost Price of 15 Items is - 150\n"
     ]
    }
   ],
   "source": [
    "total_selling_price=0\n",
    "total_profit = 0\n",
    "for i in range(15):\n",
    "    tprice = int(input(\"Enter the Selling Price - \"))\n",
    "    profit = int(input(\"Enter the profit - \"))\n",
    "    total_selling_price += tprice\n",
    "    total_profit += profit\n",
    "    \n",
    "print(total_selling_price, total_profit)\n",
    "total_cost_price = total_profit - total_selling_price\n",
    "print(f\"The Total Cost Price of 15 Items is - {total_cost_price}\")"
   ]
  },
  {
   "cell_type": "code",
   "execution_count": 4,
   "metadata": {},
   "outputs": [
    {
     "name": "stdout",
     "output_type": "stream",
     "text": [
      "12345\n"
     ]
    }
   ],
   "source": [
    "num=12345\n",
    "print(num)\n"
   ]
  },
  {
   "cell_type": "code",
   "execution_count": 5,
   "metadata": {},
   "outputs": [
    {
     "data": {
      "text/plain": [
       "54321"
      ]
     },
     "execution_count": 5,
     "metadata": {},
     "output_type": "execute_result"
    }
   ],
   "source": [
    "54321"
   ]
  },
  {
   "cell_type": "code",
   "execution_count": 6,
   "metadata": {},
   "outputs": [
    {
     "data": {
      "text/plain": [
       "1234"
      ]
     },
     "execution_count": 6,
     "metadata": {},
     "output_type": "execute_result"
    }
   ],
   "source": [
    "int(12345/10)"
   ]
  },
  {
   "cell_type": "code",
   "execution_count": 7,
   "metadata": {},
   "outputs": [
    {
     "data": {
      "text/plain": [
       "5"
      ]
     },
     "execution_count": 7,
     "metadata": {},
     "output_type": "execute_result"
    }
   ],
   "source": [
    "12345%10"
   ]
  },
  {
   "cell_type": "code",
   "execution_count": 8,
   "metadata": {},
   "outputs": [
    {
     "data": {
      "text/plain": [
       "45"
      ]
     },
     "execution_count": 8,
     "metadata": {},
     "output_type": "execute_result"
    }
   ],
   "source": [
    "12345%100"
   ]
  },
  {
   "cell_type": "code",
   "execution_count": 9,
   "metadata": {},
   "outputs": [
    {
     "name": "stdout",
     "output_type": "stream",
     "text": [
      "5\n"
     ]
    }
   ],
   "source": [
    "print(12345%10)"
   ]
  },
  {
   "cell_type": "code",
   "execution_count": 12,
   "metadata": {},
   "outputs": [
    {
     "data": {
      "text/plain": [
       "1234"
      ]
     },
     "execution_count": 12,
     "metadata": {},
     "output_type": "execute_result"
    }
   ],
   "source": [
    "num = 12345//10\n",
    "num"
   ]
  },
  {
   "cell_type": "code",
   "execution_count": 13,
   "metadata": {},
   "outputs": [
    {
     "data": {
      "text/plain": [
       "4"
      ]
     },
     "execution_count": 13,
     "metadata": {},
     "output_type": "execute_result"
    }
   ],
   "source": [
    "num%10"
   ]
  },
  {
   "cell_type": "code",
   "execution_count": 16,
   "metadata": {},
   "outputs": [
    {
     "data": {
      "text/plain": [
       "1"
      ]
     },
     "execution_count": 16,
     "metadata": {},
     "output_type": "execute_result"
    }
   ],
   "source": [
    "num /= 10\n",
    "int(num%10)"
   ]
  },
  {
   "cell_type": "code",
   "execution_count": 35,
   "metadata": {},
   "outputs": [
    {
     "name": "stdout",
     "output_type": "stream",
     "text": [
      "5\n"
     ]
    }
   ],
   "source": [
    "# https://github.com/subhadeep-123/C-Programs-Solutions/tree/master/Let%20Us%20C/02.%20C%20Instructions\n",
    "\n",
    "num=1234\n",
    "last = num%10\n",
    "i = 3\n",
    "while (i != 0):\n",
    "    num = num//10\n",
    "    i -= 1\n",
    "total = last+num\n",
    "print(total)"
   ]
  },
  {
   "cell_type": "code",
   "execution_count": 18,
   "metadata": {},
   "outputs": [
    {
     "data": {
      "text/plain": [
       "4"
      ]
     },
     "execution_count": 18,
     "metadata": {},
     "output_type": "execute_result"
    }
   ],
   "source": [
    "last"
   ]
  },
  {
   "cell_type": "code",
   "execution_count": 22,
   "metadata": {},
   "outputs": [
    {
     "data": {
      "text/plain": [
       "123"
      ]
     },
     "execution_count": 22,
     "metadata": {},
     "output_type": "execute_result"
    }
   ],
   "source": [
    "int(first)"
   ]
  },
  {
   "cell_type": "code",
   "execution_count": null,
   "metadata": {},
   "outputs": [],
   "source": []
  }
 ],
 "metadata": {
  "kernelspec": {
   "display_name": "Python 3",
   "language": "python",
   "name": "python3"
  },
  "language_info": {
   "codemirror_mode": {
    "name": "ipython",
    "version": 3
   },
   "file_extension": ".py",
   "mimetype": "text/x-python",
   "name": "python",
   "nbconvert_exporter": "python",
   "pygments_lexer": "ipython3",
   "version": "3.8.5"
  }
 },
 "nbformat": 4,
 "nbformat_minor": 4
}
