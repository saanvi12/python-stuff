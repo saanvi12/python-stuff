{
 "cells": [
  {
   "cell_type": "code",
   "execution_count": null,
   "metadata": {},
   "outputs": [],
   "source": [
    "#TO INSTALL JUPYTER NOTEBOOK IN MAC"
   ]
  },
  {
   "cell_type": "markdown",
   "metadata": {},
   "source": [
    "## OVERVIEW"
   ]
  },
  {
   "cell_type": "markdown",
   "metadata": {},
   "source": [
    "1. Compilers and Interpreter\n"
   ]
  },
  {
   "cell_type": "code",
   "execution_count": 1,
   "metadata": {},
   "outputs": [
    {
     "name": "stdout",
     "output_type": "stream",
     "text": [
      "Something!\n"
     ]
    }
   ],
   "source": [
    "print(\"Something!\")"
   ]
  },
  {
   "cell_type": "code",
   "execution_count": 2,
   "metadata": {},
   "outputs": [
    {
     "name": "stdout",
     "output_type": "stream",
     "text": [
      "Enter something:10\n"
     ]
    }
   ],
   "source": [
    "# a is a variable\n",
    "# what are variables\n",
    "# variables where we store the data\n",
    "a = int(input(\"Enter something:\"))"
   ]
  },
  {
   "cell_type": "code",
   "execution_count": 3,
   "metadata": {},
   "outputs": [
    {
     "name": "stdout",
     "output_type": "stream",
     "text": [
      "10\n"
     ]
    }
   ],
   "source": [
    "print(a)"
   ]
  },
  {
   "cell_type": "code",
   "execution_count": 9,
   "metadata": {},
   "outputs": [
    {
     "data": {
      "text/plain": [
       "'Keywords are predefined, reserved words used in programming that have special meanings to the compiler. \\nKeywords are part of the syntax and they cannot be used as an identifier.'"
      ]
     },
     "execution_count": 9,
     "metadata": {},
     "output_type": "execute_result"
    }
   ],
   "source": [
    "#what are keywords\n",
    "\"\"\"Keywords are predefined, reserved words used in programming that have special meanings to the compiler. \n",
    "Keywords are part of the syntax and they cannot be used as an identifier.\"\"\""
   ]
  },
  {
   "cell_type": "code",
   "execution_count": null,
   "metadata": {},
   "outputs": [],
   "source": [
    "#what are syntax \n",
    "\"\"\"\n",
    " the syntax of a computer language is the set of rules that defines the combinations of \n",
    " symbols that are considered to be correctly structured statements or expressions in that language.\n",
    " \"\"\""
   ]
  },
  {
   "cell_type": "code",
   "execution_count": 11,
   "metadata": {},
   "outputs": [
    {
     "data": {
      "text/plain": [
       "'a = 10\\nb = 20\\nc = a + b\\nprint(c)'"
      ]
     },
     "execution_count": 11,
     "metadata": {},
     "output_type": "execute_result"
    }
   ],
   "source": [
    "#comment\n",
    "#1st is to use #\n",
    " \n",
    "# this code adds to variable and prints the result\n",
    "# 2nd way is called multi line commenting \"\"\" \"\"\"\n",
    "\"\"\"a = 10\n",
    "b = 20\n",
    "c = a + b\n",
    "print(c)\"\"\""
   ]
  },
  {
   "cell_type": "code",
   "execution_count": 16,
   "metadata": {},
   "outputs": [
    {
     "name": "stdout",
     "output_type": "stream",
     "text": [
      "200\n"
     ]
    }
   ],
   "source": [
    "#Multi Line Statement\n",
    "one = two = three = four = 50\n",
    "result = one + \\\n",
    "         two + \\\n",
    "         three + \\\n",
    "         four\n",
    "print(result)\n"
   ]
  },
  {
   "cell_type": "code",
   "execution_count": 17,
   "metadata": {},
   "outputs": [],
   "source": [
    "#Quotations\n",
    "\n",
    "# for a single word\n",
    "a = 'single_word'\n",
    "#for a sentence\n",
    "b = \"This is a 6 word sentence\"\n",
    "#python prefers nnot to use single quotes for sentences"
   ]
  },
  {
   "cell_type": "code",
   "execution_count": 19,
   "metadata": {},
   "outputs": [
    {
     "name": "stdout",
     "output_type": "stream",
     "text": [
      "single_word \n",
      " This is a 6 word sentence\n"
     ]
    }
   ],
   "source": [
    "print(a,\"\\n\", b)"
   ]
  },
  {
   "cell_type": "code",
   "execution_count": 20,
   "metadata": {},
   "outputs": [],
   "source": [
    "#input from the user\n",
    "# we use a input keyword"
   ]
  },
  {
   "cell_type": "code",
   "execution_count": 21,
   "metadata": {},
   "outputs": [
    {
     "name": "stdout",
     "output_type": "stream",
     "text": [
      "20\n"
     ]
    }
   ],
   "source": [
    "#multi statement on single line\n",
    "\n",
    "a = 10; b = 10; print(a+b)"
   ]
  },
  {
   "cell_type": "code",
   "execution_count": 65,
   "metadata": {},
   "outputs": [],
   "source": [
    "# all type of variables on a whole are called identifier "
   ]
  },
  {
   "cell_type": "markdown",
   "metadata": {},
   "source": [
    "## NUMBERS"
   ]
  },
  {
   "cell_type": "code",
   "execution_count": null,
   "metadata": {},
   "outputs": [],
   "source": [
    "#DATA TYPES\n",
    "int = integers\n",
    "float = decimal\n",
    "str = string\n",
    "list = lists # [1,2,3,4,5,6 ]\n",
    "tuple = tuples (1,2,3,4,5,8)\n",
    "dict = Dictionaries {name: 'Subhadeep', title: 'Banerjee'}\n",
    "bool = True/False\n",
    "complex = \"A complex number is a number that can be expressed in the form a + bi, where a and b are real numbers\""
   ]
  },
  {
   "cell_type": "markdown",
   "metadata": {},
   "source": [
    "## OPERATORS"
   ]
  },
  {
   "cell_type": "code",
   "execution_count": null,
   "metadata": {},
   "outputs": [],
   "source": [
    "# How many types of operators are there\n",
    "\n",
    "1. ARITHMETIC OPERATORS\n",
    "2. COMPARISON OPERATOR\n",
    "3. ASSINGMENT OPERATORS\n",
    "4. BITWISE OPERATORS\n",
    "5. LOGICAL OPERATORS\n",
    "6. MEMBERSHIP OPERATORS\n",
    "7. IDENTITY OPERATORS"
   ]
  },
  {
   "cell_type": "markdown",
   "metadata": {},
   "source": [
    "## 1. ARITHMETIC OPERATORS"
   ]
  },
  {
   "cell_type": "code",
   "execution_count": null,
   "metadata": {},
   "outputs": [],
   "source": [
    "+ = ADDITION operator\n",
    "- = SUBSTRACTION operator\n",
    "* = MULT operator\n",
    "/ = DIVIDE operator\n",
    "% = MODULUS operator\n",
    "** = EXPONENT operator\n",
    "// = FLOOR DIVISION operator"
   ]
  },
  {
   "cell_type": "code",
   "execution_count": 23,
   "metadata": {},
   "outputs": [],
   "source": [
    "a = 100\n",
    "b = 10"
   ]
  },
  {
   "cell_type": "code",
   "execution_count": 24,
   "metadata": {},
   "outputs": [
    {
     "data": {
      "text/plain": [
       "110"
      ]
     },
     "execution_count": 24,
     "metadata": {},
     "output_type": "execute_result"
    }
   ],
   "source": [
    "a + b"
   ]
  },
  {
   "cell_type": "code",
   "execution_count": 27,
   "metadata": {},
   "outputs": [
    {
     "name": "stdout",
     "output_type": "stream",
     "text": [
      "90\n"
     ]
    }
   ],
   "source": [
    "print(a - b)"
   ]
  },
  {
   "cell_type": "code",
   "execution_count": 26,
   "metadata": {},
   "outputs": [
    {
     "data": {
      "text/plain": [
       "1000"
      ]
     },
     "execution_count": 26,
     "metadata": {},
     "output_type": "execute_result"
    }
   ],
   "source": [
    "a * b"
   ]
  },
  {
   "cell_type": "code",
   "execution_count": 28,
   "metadata": {},
   "outputs": [
    {
     "data": {
      "text/plain": [
       "10.0"
      ]
     },
     "execution_count": 28,
     "metadata": {},
     "output_type": "execute_result"
    }
   ],
   "source": [
    "a / b"
   ]
  },
  {
   "cell_type": "code",
   "execution_count": null,
   "metadata": {},
   "outputs": [],
   "source": []
  },
  {
   "cell_type": "code",
   "execution_count": 35,
   "metadata": {},
   "outputs": [
    {
     "data": {
      "text/plain": [
       "0"
      ]
     },
     "execution_count": 35,
     "metadata": {},
     "output_type": "execute_result"
    }
   ],
   "source": [
    "a % b"
   ]
  },
  {
   "cell_type": "code",
   "execution_count": 36,
   "metadata": {},
   "outputs": [
    {
     "data": {
      "text/plain": [
       "16"
      ]
     },
     "execution_count": 36,
     "metadata": {},
     "output_type": "execute_result"
    }
   ],
   "source": [
    "a = 2\n",
    "b = 4\n",
    "a**b"
   ]
  },
  {
   "cell_type": "code",
   "execution_count": 42,
   "metadata": {},
   "outputs": [
    {
     "data": {
      "text/plain": [
       "100"
      ]
     },
     "execution_count": 42,
     "metadata": {},
     "output_type": "execute_result"
    }
   ],
   "source": [
    "10 ** 2"
   ]
  },
  {
   "cell_type": "code",
   "execution_count": 46,
   "metadata": {},
   "outputs": [
    {
     "data": {
      "text/plain": [
       "49"
      ]
     },
     "execution_count": 46,
     "metadata": {},
     "output_type": "execute_result"
    }
   ],
   "source": [
    "99 // 2"
   ]
  },
  {
   "cell_type": "markdown",
   "metadata": {},
   "source": [
    "## 2. COMPARISON OPERATOR"
   ]
  },
  {
   "cell_type": "code",
   "execution_count": null,
   "metadata": {},
   "outputs": [],
   "source": [
    "== Checks if two values are same\n",
    "!= opposite of first line\n",
    "> greater than \n",
    "< less than\n",
    ">= greater than or equal to\n",
    "<= less than or equal to"
   ]
  },
  {
   "cell_type": "code",
   "execution_count": 54,
   "metadata": {},
   "outputs": [
    {
     "name": "stdout",
     "output_type": "stream",
     "text": [
      "Not okay\n"
     ]
    }
   ],
   "source": [
    "a = 10\n",
    "b = 10\n",
    "\n",
    "if(a != b):\n",
    "    print(\"okay\")\n",
    "else:\n",
    "    print(\"Not okay\")"
   ]
  },
  {
   "cell_type": "code",
   "execution_count": 55,
   "metadata": {},
   "outputs": [
    {
     "name": "stdout",
     "output_type": "stream",
     "text": [
      "okay\n"
     ]
    }
   ],
   "source": [
    "a = 10\n",
    "b = 10\n",
    "\n",
    "if(a == b):\n",
    "    print(\"okay\")\n",
    "else:\n",
    "    print(\"Not okay\")"
   ]
  },
  {
   "cell_type": "code",
   "execution_count": 57,
   "metadata": {},
   "outputs": [
    {
     "name": "stdout",
     "output_type": "stream",
     "text": [
      "Not okay\n"
     ]
    }
   ],
   "source": [
    "a = 10\n",
    "b = 90\n",
    "\n",
    "if(a > b):\n",
    "    print(\"okay\")\n",
    "else:\n",
    "    print(\"Not okay\")"
   ]
  },
  {
   "cell_type": "code",
   "execution_count": 58,
   "metadata": {},
   "outputs": [
    {
     "name": "stdout",
     "output_type": "stream",
     "text": [
      "okay\n"
     ]
    }
   ],
   "source": [
    "a = 10\n",
    "b = 90\n",
    "\n",
    "if(a < b):\n",
    "    print(\"okay\")\n",
    "else:\n",
    "    print(\"Not okay\")"
   ]
  },
  {
   "cell_type": "code",
   "execution_count": 60,
   "metadata": {},
   "outputs": [
    {
     "name": "stdout",
     "output_type": "stream",
     "text": [
      "okay\n"
     ]
    }
   ],
   "source": [
    "a = 10\n",
    "b = 10\n",
    "\n",
    "if(a >= b):\n",
    "    print(\"okay\")\n",
    "else:\n",
    "    print(\"Not okay\")"
   ]
  },
  {
   "cell_type": "code",
   "execution_count": 63,
   "metadata": {},
   "outputs": [
    {
     "name": "stdout",
     "output_type": "stream",
     "text": [
      "okay\n"
     ]
    }
   ],
   "source": [
    "a = 10\n",
    "b = 10\n",
    "\n",
    "if(a <= b):\n",
    "    print(\"okay\")\n",
    "else:\n",
    "    print(\"Not okay\")"
   ]
  },
  {
   "cell_type": "markdown",
   "metadata": {},
   "source": [
    "## 3. ASSINGMENT OPERATORS"
   ]
  },
  {
   "cell_type": "code",
   "execution_count": null,
   "metadata": {},
   "outputs": [],
   "source": [
    "a = 10\n",
    "# I am assinging the value 10 to a"
   ]
  },
  {
   "cell_type": "code",
   "execution_count": null,
   "metadata": {},
   "outputs": [],
   "source": [
    "#the name of the variable is var\n",
    "#we are using assingment operator\n",
    "#we are assinging 20 to var\n",
    "#var is an integer type\n",
    "var = 20"
   ]
  },
  {
   "cell_type": "code",
   "execution_count": 66,
   "metadata": {},
   "outputs": [],
   "source": [
    "#the name of the variable NAME\n",
    "#we are using ASSINGMENT operator\n",
    "#we are assinging IRON MAN to NAME\n",
    "#var is an STRING type\n",
    "name = \"iron man\""
   ]
  },
  {
   "cell_type": "markdown",
   "metadata": {},
   "source": [
    "## 4. LOGICAL OPERATORS"
   ]
  },
  {
   "cell_type": "code",
   "execution_count": null,
   "metadata": {},
   "outputs": [],
   "source": [
    "and = LOGICAL AND\n",
    "or = LOGICAL OR\n",
    "not = USE TO REVERSE THE LOGICAL STATE OF ITS OPERAND"
   ]
  },
  {
   "cell_type": "code",
   "execution_count": 68,
   "metadata": {},
   "outputs": [
    {
     "name": "stdout",
     "output_type": "stream",
     "text": [
      "10 11\n"
     ]
    }
   ],
   "source": [
    "a = 9\n",
    "b = 11\n",
    "if(a > 5 and b > 10):\n",
    "    print(a, b)\n",
    "else:\n",
    "    print(\"uhhhh not good!!\")"
   ]
  },
  {
   "cell_type": "code",
   "execution_count": 69,
   "metadata": {},
   "outputs": [
    {
     "name": "stdout",
     "output_type": "stream",
     "text": [
      "9 11\n"
     ]
    }
   ],
   "source": [
    "a = 9\n",
    "b = 11\n",
    "if(a > 10 or b > 10):\n",
    "    print(a, b)\n",
    "else:\n",
    "    print(\"Ahhh not again!!\")"
   ]
  },
  {
   "cell_type": "markdown",
   "metadata": {},
   "source": [
    "## 5. MEMBERSHIP OPERATORS"
   ]
  },
  {
   "cell_type": "code",
   "execution_count": null,
   "metadata": {},
   "outputs": [],
   "source": [
    "in = EVALUATE TO TRUE IF IT FINDS A VARIABLE IN THE SPECIFIED SEQUENCE\n",
    "not in = EVALUATE TO TRUE IF IT FINDS A VARIABLE IS NOT IN THE SPECIFIED SEQUENCE"
   ]
  },
  {
   "cell_type": "code",
   "execution_count": 72,
   "metadata": {},
   "outputs": [
    {
     "name": "stdout",
     "output_type": "stream",
     "text": [
      "False\n"
     ]
    }
   ],
   "source": [
    "lists = [1,2,3,4,5]\n",
    "a = 10\n",
    "print(a in lists)"
   ]
  },
  {
   "cell_type": "code",
   "execution_count": 73,
   "metadata": {},
   "outputs": [
    {
     "name": "stdout",
     "output_type": "stream",
     "text": [
      "True\n"
     ]
    }
   ],
   "source": [
    "lists = [1,2,3,4,5]\n",
    "a = 3\n",
    "print(a in lists)"
   ]
  },
  {
   "cell_type": "code",
   "execution_count": 74,
   "metadata": {},
   "outputs": [
    {
     "name": "stdout",
     "output_type": "stream",
     "text": [
      "True\n"
     ]
    }
   ],
   "source": [
    "lists = [1,2,3,4,5]\n",
    "a = 10\n",
    "print(a not in lists)"
   ]
  },
  {
   "cell_type": "code",
   "execution_count": 75,
   "metadata": {},
   "outputs": [
    {
     "name": "stdout",
     "output_type": "stream",
     "text": [
      "False\n"
     ]
    }
   ],
   "source": [
    "lists = [1,2,3,4,5]\n",
    "a = 3\n",
    "print(a not in lists)"
   ]
  },
  {
   "cell_type": "markdown",
   "metadata": {},
   "source": [
    "## 6. IDENTITY OPERATORS "
   ]
  },
  {
   "cell_type": "markdown",
   "metadata": {},
   "source": [
    "is = EVALUATE TO TURE IF THE VARIABLE ON EITHER SIDE OF THE OPERATOR POINT TO THE SAME OBJECT AND FALSE OTHERWISE\n",
    "not is = EVALUATE TO FALSE IF THE VARIABLE ON EITHER SIDE OF THE OPERATOR POINT TO THE SAME OBJECT AND FALSE OTHERWISE"
   ]
  },
  {
   "cell_type": "code",
   "execution_count": 85,
   "metadata": {},
   "outputs": [
    {
     "data": {
      "text/plain": [
       "140718847891392"
      ]
     },
     "execution_count": 85,
     "metadata": {},
     "output_type": "execute_result"
    }
   ],
   "source": [
    "a = 10\n",
    "#4 bits\n",
    "id(a)"
   ]
  },
  {
   "cell_type": "code",
   "execution_count": 86,
   "metadata": {},
   "outputs": [
    {
     "data": {
      "text/plain": [
       "140718847891456"
      ]
     },
     "execution_count": 86,
     "metadata": {},
     "output_type": "execute_result"
    }
   ],
   "source": [
    "b = 12\n",
    "id(b)"
   ]
  },
  {
   "cell_type": "code",
   "execution_count": 89,
   "metadata": {},
   "outputs": [
    {
     "name": "stdout",
     "output_type": "stream",
     "text": [
      "Booyeah!!\n"
     ]
    }
   ],
   "source": [
    "if(a is a):\n",
    "    print(\"Booyeah!!\")\n",
    "else:\n",
    "    print(\"AHHHHHH!\")"
   ]
  },
  {
   "cell_type": "code",
   "execution_count": null,
   "metadata": {},
   "outputs": [],
   "source": [
    "if(a is b):\n",
    "    print(\"Booyeah!!\")\n",
    "else:\n",
    "    print(\"AHHHHHH!\")"
   ]
  }
 ],
 "metadata": {
  "kernelspec": {
   "display_name": "Python 3",
   "language": "python",
   "name": "python3"
  },
  "language_info": {
   "codemirror_mode": {
    "name": "ipython",
    "version": 3
   },
   "file_extension": ".py",
   "mimetype": "text/x-python",
   "name": "python",
   "nbconvert_exporter": "python",
   "pygments_lexer": "ipython3",
   "version": "3.8.5"
  }
 },
 "nbformat": 4,
 "nbformat_minor": 4
}
